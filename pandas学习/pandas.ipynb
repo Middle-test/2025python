{
 "cells": [
  {
   "cell_type": "code",
   "id": "initial_id",
   "metadata": {
    "collapsed": true,
    "ExecuteTime": {
     "end_time": "2025-02-24T05:44:20.082411Z",
     "start_time": "2025-02-24T05:44:19.399412Z"
    }
   },
   "source": "import pandas as pd",
   "outputs": [],
   "execution_count": 1
  },
  {
   "metadata": {},
   "cell_type": "markdown",
   "source": "# Series",
   "id": "cd62e12c2571e685"
  },
  {
   "metadata": {
    "ExecuteTime": {
     "end_time": "2025-02-24T05:44:20.088411Z",
     "start_time": "2025-02-24T05:44:20.083411Z"
    }
   },
   "cell_type": "code",
   "source": [
    "s = pd.Series(range(10, 20))\n",
    "print(s)"
   ],
   "id": "7745c22ab4d77d31",
   "outputs": [
    {
     "name": "stdout",
     "output_type": "stream",
     "text": [
      "0    10\n",
      "1    11\n",
      "2    12\n",
      "3    13\n",
      "4    14\n",
      "5    15\n",
      "6    16\n",
      "7    17\n",
      "8    18\n",
      "9    19\n",
      "dtype: int64\n"
     ]
    }
   ],
   "execution_count": 2
  },
  {
   "metadata": {
    "ExecuteTime": {
     "end_time": "2025-02-24T05:44:20.093642Z",
     "start_time": "2025-02-24T05:44:20.089411Z"
    }
   },
   "cell_type": "code",
   "source": [
    "print(s.values)\n",
    "print(type(s.values))\n",
    "print(s.index)"
   ],
   "id": "6dc63dbe1f3fa653",
   "outputs": [
    {
     "name": "stdout",
     "output_type": "stream",
     "text": [
      "[10 11 12 13 14 15 16 17 18 19]\n",
      "<class 'numpy.ndarray'>\n",
      "RangeIndex(start=0, stop=10, step=1)\n"
     ]
    }
   ],
   "execution_count": 3
  },
  {
   "metadata": {
    "ExecuteTime": {
     "end_time": "2025-02-24T05:44:20.102647Z",
     "start_time": "2025-02-24T05:44:20.094646Z"
    }
   },
   "cell_type": "code",
   "source": [
    "print(s[0])\n",
    "print('-' * 50)\n",
    "print(s * 2)\n",
    "print('-' * 50)\n",
    "print(s > 15)"
   ],
   "id": "9dbed642f6a909b5",
   "outputs": [
    {
     "name": "stdout",
     "output_type": "stream",
     "text": [
      "10\n",
      "--------------------------------------------------\n",
      "0    20\n",
      "1    22\n",
      "2    24\n",
      "3    26\n",
      "4    28\n",
      "5    30\n",
      "6    32\n",
      "7    34\n",
      "8    36\n",
      "9    38\n",
      "dtype: int64\n",
      "--------------------------------------------------\n",
      "0    False\n",
      "1    False\n",
      "2    False\n",
      "3    False\n",
      "4    False\n",
      "5    False\n",
      "6     True\n",
      "7     True\n",
      "8     True\n",
      "9     True\n",
      "dtype: bool\n"
     ]
    }
   ],
   "execution_count": 4
  },
  {
   "metadata": {
    "ExecuteTime": {
     "end_time": "2025-02-24T05:44:20.109270Z",
     "start_time": "2025-02-24T05:44:20.104643Z"
    }
   },
   "cell_type": "code",
   "source": [
    "#自定义索引\n",
    "s = pd.Series(range(10, 20), index=list('abcdefghij'))\n",
    "print(s)\n",
    "print('-' * 50)\n",
    "print(s['a'])"
   ],
   "id": "a0fd8b38490eb2e3",
   "outputs": [
    {
     "name": "stdout",
     "output_type": "stream",
     "text": [
      "a    10\n",
      "b    11\n",
      "c    12\n",
      "d    13\n",
      "e    14\n",
      "f    15\n",
      "g    16\n",
      "h    17\n",
      "i    18\n",
      "j    19\n",
      "dtype: int64\n",
      "--------------------------------------------------\n",
      "10\n"
     ]
    }
   ],
   "execution_count": 5
  },
  {
   "metadata": {},
   "cell_type": "markdown",
   "source": "# DataFrame",
   "id": "4f75043cce7f1d42"
  },
  {
   "metadata": {
    "ExecuteTime": {
     "end_time": "2025-02-24T05:44:20.117274Z",
     "start_time": "2025-02-24T05:44:20.110275Z"
    }
   },
   "cell_type": "code",
   "source": [
    "import numpy as np\n",
    "\n",
    "t = pd.DataFrame(np.arange(12).reshape(3, 4))\n",
    "print(t)"
   ],
   "id": "f1a8e170829ebd37",
   "outputs": [
    {
     "name": "stdout",
     "output_type": "stream",
     "text": [
      "   0  1   2   3\n",
      "0  0  1   2   3\n",
      "1  4  5   6   7\n",
      "2  8  9  10  11\n"
     ]
    }
   ],
   "execution_count": 6
  },
  {
   "metadata": {
    "ExecuteTime": {
     "end_time": "2025-02-24T05:44:20.125102Z",
     "start_time": "2025-02-24T05:44:20.118274Z"
    }
   },
   "cell_type": "code",
   "source": [
    "a = np.random.rand(5, 4)\n",
    "print(a)\n",
    "print('-' * 50)\n",
    "b = pd.DataFrame(a)\n",
    "print(b.head())  #默认显示前5行"
   ],
   "id": "73e9bddb838b68bb",
   "outputs": [
    {
     "name": "stdout",
     "output_type": "stream",
     "text": [
      "[[0.61937049 0.97630887 0.40615322 0.12410012]\n",
      " [0.56829062 0.9408697  0.34300544 0.41432685]\n",
      " [0.81240865 0.10972573 0.8962212  0.88595192]\n",
      " [0.40359854 0.96202629 0.47658494 0.22798008]\n",
      " [0.95105563 0.71021452 0.37959325 0.32207937]]\n",
      "--------------------------------------------------\n",
      "          0         1         2         3\n",
      "0  0.619370  0.976309  0.406153  0.124100\n",
      "1  0.568291  0.940870  0.343005  0.414327\n",
      "2  0.812409  0.109726  0.896221  0.885952\n",
      "3  0.403599  0.962026  0.476585  0.227980\n",
      "4  0.951056  0.710215  0.379593  0.322079\n"
     ]
    }
   ],
   "execution_count": 7
  },
  {
   "metadata": {
    "ExecuteTime": {
     "end_time": "2025-02-24T05:44:20.132103Z",
     "start_time": "2025-02-24T05:44:20.126106Z"
    }
   },
   "cell_type": "code",
   "source": [
    "d = {'name': ['Alice', 'Bob', 'Charlie'], 'age': [25, None, 35]}\n",
    "df = pd.DataFrame(d)\n",
    "print(df)  #缺失值用NaN表示\n",
    "print(type(df.values))\n",
    "print(f'行索引：{df.index}')\n",
    "print(f'列索引：{df.columns}')"
   ],
   "id": "c1db6a5ff5d66e7f",
   "outputs": [
    {
     "name": "stdout",
     "output_type": "stream",
     "text": [
      "      name   age\n",
      "0    Alice  25.0\n",
      "1      Bob   NaN\n",
      "2  Charlie  35.0\n",
      "<class 'numpy.ndarray'>\n",
      "行索引：RangeIndex(start=0, stop=3, step=1)\n",
      "列索引：Index(['name', 'age'], dtype='object')\n"
     ]
    }
   ],
   "execution_count": 8
  },
  {
   "metadata": {
    "ExecuteTime": {
     "end_time": "2025-02-24T05:44:20.140629Z",
     "start_time": "2025-02-24T05:44:20.133107Z"
    }
   },
   "cell_type": "code",
   "source": [
    "#感受日期，初始化df，设置行索引为日期\n",
    "dates = pd.date_range('20250101', periods=6)\n",
    "df = pd.DataFrame(np.random.rand(6, 4), index=dates, columns=list('ABCD'))\n",
    "print(df)\n",
    "print('-' * 50)\n",
    "print(df.index)"
   ],
   "id": "90e8ba39e579421b",
   "outputs": [
    {
     "name": "stdout",
     "output_type": "stream",
     "text": [
      "                   A         B         C         D\n",
      "2025-01-01  0.696562  0.858803  0.833374  0.463414\n",
      "2025-01-02  0.516410  0.371232  0.731640  0.300296\n",
      "2025-01-03  0.120726  0.798443  0.961280  0.401154\n",
      "2025-01-04  0.200468  0.313010  0.671822  0.961301\n",
      "2025-01-05  0.392244  0.291116  0.954212  0.329472\n",
      "2025-01-06  0.485116  0.600690  0.680065  0.443880\n",
      "--------------------------------------------------\n",
      "DatetimeIndex(['2025-01-01', '2025-01-02', '2025-01-03', '2025-01-04',\n",
      "               '2025-01-05', '2025-01-06'],\n",
      "              dtype='datetime64[ns]', freq='D')\n"
     ]
    }
   ],
   "execution_count": 9
  },
  {
   "metadata": {},
   "cell_type": "markdown",
   "source": "# Series的索引操作",
   "id": "be39f7bf63c7330c"
  },
  {
   "metadata": {
    "ExecuteTime": {
     "end_time": "2025-02-24T05:44:20.148634Z",
     "start_time": "2025-02-24T05:44:20.141635Z"
    }
   },
   "cell_type": "code",
   "source": [
    "s = pd.Series(range(5), index=list('abcde'))\n",
    "print(s)\n",
    "print('-' * 50)\n",
    "print(s['b'])  #按标签索引\n",
    "print(s.iloc[1])  #按位置索引\n",
    "print('-' * 50)\n",
    "print(s[1:3])  #索引位置取数据，左闭右开\n",
    "print('-' * 50)\n",
    "print(s['b':'d'])  #索引位置取索引名，左闭右闭\n",
    "print('-' * 50)\n",
    "print(s[s > 2])  #取出s中大于2的元素"
   ],
   "id": "b825b868792627ec",
   "outputs": [
    {
     "name": "stdout",
     "output_type": "stream",
     "text": [
      "a    0\n",
      "b    1\n",
      "c    2\n",
      "d    3\n",
      "e    4\n",
      "dtype: int64\n",
      "--------------------------------------------------\n",
      "1\n",
      "1\n",
      "--------------------------------------------------\n",
      "b    1\n",
      "c    2\n",
      "dtype: int64\n",
      "--------------------------------------------------\n",
      "b    1\n",
      "c    2\n",
      "d    3\n",
      "dtype: int64\n",
      "--------------------------------------------------\n",
      "d    3\n",
      "e    4\n",
      "dtype: int64\n"
     ]
    }
   ],
   "execution_count": 10
  },
  {
   "metadata": {},
   "cell_type": "markdown",
   "source": "# DataFrame的索引",
   "id": "245b8ec4b1bcfe07"
  },
  {
   "metadata": {
    "ExecuteTime": {
     "end_time": "2025-02-24T05:44:20.158630Z",
     "start_time": "2025-02-24T05:44:20.149634Z"
    }
   },
   "cell_type": "code",
   "source": [
    "import numpy as np\n",
    "\n",
    "t = pd.DataFrame(np.random.rand(3, 5), columns=list('abcde'))\n",
    "print(t)\n",
    "print('-' * 50)\n",
    "print(f'series类型：\\n{t['a']}')  #输出series类型\n",
    "print('-' * 50)\n",
    "print(f'dataframe类型：\\n{t[['a']]}')  #输出dataframe类型"
   ],
   "id": "8e8f0536f0dc1f43",
   "outputs": [
    {
     "name": "stdout",
     "output_type": "stream",
     "text": [
      "          a         b         c         d         e\n",
      "0  0.574349  0.140711  0.114021  0.056545  0.171142\n",
      "1  0.909886  0.781379  0.588740  0.471729  0.192527\n",
      "2  0.198274  0.585205  0.293764  0.261037  0.463744\n",
      "--------------------------------------------------\n",
      "series类型：\n",
      "0    0.574349\n",
      "1    0.909886\n",
      "2    0.198274\n",
      "Name: a, dtype: float64\n",
      "--------------------------------------------------\n",
      "dataframe类型：\n",
      "          a\n",
      "0  0.574349\n",
      "1  0.909886\n",
      "2  0.198274\n"
     ]
    }
   ],
   "execution_count": 11
  },
  {
   "metadata": {},
   "cell_type": "markdown",
   "source": "# 对齐操作",
   "id": "42e71111682b8070"
  },
  {
   "metadata": {
    "ExecuteTime": {
     "end_time": "2025-02-24T05:44:20.168635Z",
     "start_time": "2025-02-24T05:44:20.159637Z"
    }
   },
   "cell_type": "code",
   "source": [
    "s1 = pd.Series([1, 2, 3], index=list('abc'))\n",
    "s2 = pd.Series([4, 5, 6], index=list('bcd'))\n",
    "print(s1)\n",
    "print(s2)\n",
    "print('-' * 50)\n",
    "print(s1 + s2)  #对齐操作，按索引对齐，并按索引合并\n",
    "print('-' * 50)\n",
    "print(s1.add(s2, fill_value=0))  #对齐操作，按索引对齐，并按索引合并，fill_value=0表示对齐的元素缺失时填充0"
   ],
   "id": "7ab544172b2ecec9",
   "outputs": [
    {
     "name": "stdout",
     "output_type": "stream",
     "text": [
      "a    1\n",
      "b    2\n",
      "c    3\n",
      "dtype: int64\n",
      "b    4\n",
      "c    5\n",
      "d    6\n",
      "dtype: int64\n",
      "--------------------------------------------------\n",
      "a    NaN\n",
      "b    6.0\n",
      "c    8.0\n",
      "d    NaN\n",
      "dtype: float64\n",
      "--------------------------------------------------\n",
      "a    1.0\n",
      "b    6.0\n",
      "c    8.0\n",
      "d    6.0\n",
      "dtype: float64\n"
     ]
    }
   ],
   "execution_count": 12
  },
  {
   "metadata": {},
   "cell_type": "markdown",
   "source": "# 处理缺失数据",
   "id": "5bcad7968ccc95c9"
  },
  {
   "metadata": {
    "ExecuteTime": {
     "end_time": "2025-02-24T05:44:20.177159Z",
     "start_time": "2025-02-24T05:44:20.169635Z"
    }
   },
   "cell_type": "code",
   "source": [
    "df_data=pd.DataFrame([np.random.randn(3),[1.,2.,np.nan],\n",
    "                      [np.nan,4.,np.nan],[1.,2.,3.]])\n",
    "print(df_data)\n",
    "print('-' * 50)\n",
    "print(df_data.isnull())\n",
    "print('-' * 50)\n",
    "print(df_data.isnull().sum()/len(df_data))#计算缺失值比例"
   ],
   "id": "498a978f1f076e70",
   "outputs": [
    {
     "name": "stdout",
     "output_type": "stream",
     "text": [
      "          0        1         2\n",
      "0  0.407843  0.30905  1.410581\n",
      "1  1.000000  2.00000       NaN\n",
      "2       NaN  4.00000       NaN\n",
      "3  1.000000  2.00000  3.000000\n",
      "--------------------------------------------------\n",
      "       0      1      2\n",
      "0  False  False  False\n",
      "1  False  False   True\n",
      "2   True  False   True\n",
      "3  False  False  False\n",
      "--------------------------------------------------\n",
      "0    0.25\n",
      "1    0.00\n",
      "2    0.50\n",
      "dtype: float64\n"
     ]
    }
   ],
   "execution_count": 13
  },
  {
   "metadata": {
    "ExecuteTime": {
     "end_time": "2025-02-24T05:44:20.186833Z",
     "start_time": "2025-02-24T05:44:20.178684Z"
    }
   },
   "cell_type": "code",
   "source": [
    "#删除缺失数据\n",
    "print(df_data.dropna())#删除所有含有缺失值的行\n",
    "print('-' * 50)\n",
    "print(df_data.dropna(subset=[0]))#删除列0含有缺失值的行"
   ],
   "id": "174d56754d697f8b",
   "outputs": [
    {
     "name": "stdout",
     "output_type": "stream",
     "text": [
      "          0        1         2\n",
      "0  0.407843  0.30905  1.410581\n",
      "3  1.000000  2.00000  3.000000\n",
      "--------------------------------------------------\n",
      "          0        1         2\n",
      "0  0.407843  0.30905  1.410581\n",
      "1  1.000000  2.00000       NaN\n",
      "3  1.000000  2.00000  3.000000\n"
     ]
    }
   ],
   "execution_count": 14
  },
  {
   "metadata": {
    "ExecuteTime": {
     "end_time": "2025-02-24T05:44:20.194257Z",
     "start_time": "2025-02-24T05:44:20.187837Z"
    }
   },
   "cell_type": "code",
   "source": [
    "#填充缺失数据用fillna()方法 \n",
    "#用均值填充\n",
    "df_data.iloc[:,0]=df_data.iloc[:,0].fillna(df_data.iloc[:,0].mean()) \n",
    "df_data.iloc[:,1]=df_data.iloc[:,1].fillna(df_data.iloc[:,1].mean()) \n",
    "df_data.iloc[:,2]=df_data.iloc[:,2].fillna(df_data.iloc[:,2].mean()) \n",
    "print(df_data)"
   ],
   "id": "be49f9008d637fdd",
   "outputs": [
    {
     "name": "stdout",
     "output_type": "stream",
     "text": [
      "          0        1         2\n",
      "0  0.407843  0.30905  1.410581\n",
      "1  1.000000  2.00000  2.205290\n",
      "2  0.802614  4.00000  2.205290\n",
      "3  1.000000  2.00000  3.000000\n"
     ]
    }
   ],
   "execution_count": 15
  },
  {
   "metadata": {},
   "cell_type": "markdown",
   "source": "# 数据连接",
   "id": "76f3df0f0e56fd72"
  },
  {
   "metadata": {
    "ExecuteTime": {
     "end_time": "2025-02-24T07:03:24.445738Z",
     "start_time": "2025-02-24T07:03:24.435739Z"
    }
   },
   "cell_type": "code",
   "source": [
    "df1=pd.DataFrame({'key1':list('bbacaab'),'data1':np.random.randint(0,10,7)})\n",
    "df2=pd.DataFrame({'key2':['a','b','d'],'data2':np.random.randint(0,10,3)})\n",
    "print(df1)\n",
    "print('-'*50)\n",
    "print(df2) \n",
    "print('-'*50)\n",
    "# print(pd.merge(df1,df2))\n",
    "print('-'*50)\n",
    "print(pd.merge(df1,df2,left_on='key1',right_on='key2',how='outer'))"
   ],
   "id": "e13ecb46aa26d597",
   "outputs": [
    {
     "name": "stdout",
     "output_type": "stream",
     "text": [
      "  key1  data1\n",
      "0    b      3\n",
      "1    b      4\n",
      "2    a      3\n",
      "3    c      1\n",
      "4    a      0\n",
      "5    a      4\n",
      "6    b      2\n",
      "--------------------------------------------------\n",
      "  key2  data2\n",
      "0    a      9\n",
      "1    b      1\n",
      "2    d      5\n",
      "--------------------------------------------------\n",
      "--------------------------------------------------\n",
      "  key1  data1 key2  data2\n",
      "0    a    3.0    a    9.0\n",
      "1    a    0.0    a    9.0\n",
      "2    a    4.0    a    9.0\n",
      "3    b    3.0    b    1.0\n",
      "4    b    4.0    b    1.0\n",
      "5    b    2.0    b    1.0\n",
      "6    c    1.0  NaN    NaN\n",
      "7  NaN    NaN    d    5.0\n"
     ]
    }
   ],
   "execution_count": 25
  }
 ],
 "metadata": {
  "kernelspec": {
   "display_name": "Python 3",
   "language": "python",
   "name": "python3"
  },
  "language_info": {
   "codemirror_mode": {
    "name": "ipython",
    "version": 2
   },
   "file_extension": ".py",
   "mimetype": "text/x-python",
   "name": "python",
   "nbconvert_exporter": "python",
   "pygments_lexer": "ipython2",
   "version": "2.7.6"
  }
 },
 "nbformat": 4,
 "nbformat_minor": 5
}
