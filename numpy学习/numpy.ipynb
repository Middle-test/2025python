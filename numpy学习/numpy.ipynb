{
 "cells": [
  {
   "cell_type": "code",
   "id": "initial_id",
   "metadata": {
    "collapsed": true,
    "ExecuteTime": {
     "end_time": "2025-02-21T11:51:04.392550Z",
     "start_time": "2025-02-21T11:51:04.389806Z"
    }
   },
   "source": "import numpy as np",
   "outputs": [],
   "execution_count": 49
  },
  {
   "metadata": {
    "ExecuteTime": {
     "end_time": "2025-02-21T11:51:04.429952Z",
     "start_time": "2025-02-21T11:51:04.426333Z"
    }
   },
   "cell_type": "code",
   "source": [
    "list1 = [1, 2, 3, 4, 5]\n",
    "print(list1)"
   ],
   "id": "42f0ea12e2b2001f",
   "outputs": [
    {
     "name": "stdout",
     "output_type": "stream",
     "text": [
      "[1, 2, 3, 4, 5]\n"
     ]
    }
   ],
   "execution_count": 50
  },
  {
   "metadata": {
    "ExecuteTime": {
     "end_time": "2025-02-21T11:51:04.435276Z",
     "start_time": "2025-02-21T11:51:04.430953Z"
    }
   },
   "cell_type": "code",
   "source": [
    "arr1 = np.array(list1)\n",
    "print(arr1)"
   ],
   "id": "1851e7243417ec5e",
   "outputs": [
    {
     "name": "stdout",
     "output_type": "stream",
     "text": [
      "[1 2 3 4 5]\n"
     ]
    }
   ],
   "execution_count": 51
  },
  {
   "metadata": {
    "ExecuteTime": {
     "end_time": "2025-02-21T11:51:04.439956Z",
     "start_time": "2025-02-21T11:51:04.436277Z"
    }
   },
   "cell_type": "code",
   "source": [
    "two_list = [[1, 2, 3], [4, 5, 6], [7, 8, 9]]\n",
    "two_arr = np.array(two_list)\n",
    "print(two_arr)\n",
    "print(two_arr.shape)  #大小  \n",
    "print(two_arr.dtype)  #数据类型\n",
    "print(two_arr.size)  #元素个数\n",
    "print(two_arr.ndim)  #维度"
   ],
   "id": "102eacfb152b6e97",
   "outputs": [
    {
     "name": "stdout",
     "output_type": "stream",
     "text": [
      "[[1 2 3]\n",
      " [4 5 6]\n",
      " [7 8 9]]\n",
      "(3, 3)\n",
      "int64\n",
      "9\n",
      "2\n"
     ]
    }
   ],
   "execution_count": 52
  },
  {
   "metadata": {
    "ExecuteTime": {
     "end_time": "2025-02-21T11:51:04.444663Z",
     "start_time": "2025-02-21T11:51:04.440879Z"
    }
   },
   "cell_type": "code",
   "source": [
    "#转成二维\n",
    "t = np.arange(24)\n",
    "print(t)\n",
    "t1 = t.reshape((4, 6))\n",
    "print(t1)\n",
    "print(t1.shape)\n",
    "print(t1.ndim)"
   ],
   "id": "36188d0af2c4839c",
   "outputs": [
    {
     "name": "stdout",
     "output_type": "stream",
     "text": [
      "[ 0  1  2  3  4  5  6  7  8  9 10 11 12 13 14 15 16 17 18 19 20 21 22 23]\n",
      "[[ 0  1  2  3  4  5]\n",
      " [ 6  7  8  9 10 11]\n",
      " [12 13 14 15 16 17]\n",
      " [18 19 20 21 22 23]]\n",
      "(4, 6)\n",
      "2\n"
     ]
    }
   ],
   "execution_count": 53
  },
  {
   "metadata": {
    "ExecuteTime": {
     "end_time": "2025-02-21T11:51:04.448946Z",
     "start_time": "2025-02-21T11:51:04.445668Z"
    }
   },
   "cell_type": "code",
   "source": [
    "#转成三维\n",
    "t2 = t.reshape(2, 3, 4)\n",
    "print(t2)\n",
    "print(t2.shape)\n",
    "print(t2.ndim)"
   ],
   "id": "6219ca682fc89444",
   "outputs": [
    {
     "name": "stdout",
     "output_type": "stream",
     "text": [
      "[[[ 0  1  2  3]\n",
      "  [ 4  5  6  7]\n",
      "  [ 8  9 10 11]]\n",
      "\n",
      " [[12 13 14 15]\n",
      "  [16 17 18 19]\n",
      "  [20 21 22 23]]]\n",
      "(2, 3, 4)\n",
      "3\n"
     ]
    }
   ],
   "execution_count": 54
  },
  {
   "metadata": {},
   "cell_type": "markdown",
   "source": "# NumPy的数据类型",
   "id": "e12452111b3cf888"
  },
  {
   "metadata": {
    "ExecuteTime": {
     "end_time": "2025-02-21T11:51:04.453745Z",
     "start_time": "2025-02-21T11:51:04.449951Z"
    }
   },
   "cell_type": "code",
   "source": [
    "import random\n",
    "\n",
    "f = np.array([1, 2, 3, 4, 5], dtype=np.int16)\n",
    "print(f.itemsize)\n",
    "print(f.dtype)"
   ],
   "id": "74702957b1b98212",
   "outputs": [
    {
     "name": "stdout",
     "output_type": "stream",
     "text": [
      "2\n",
      "int16\n"
     ]
    }
   ],
   "execution_count": 55
  },
  {
   "metadata": {
    "ExecuteTime": {
     "end_time": "2025-02-21T11:51:04.458218Z",
     "start_time": "2025-02-21T11:51:04.454746Z"
    }
   },
   "cell_type": "code",
   "source": [
    "#调整数据类型\n",
    "f1 = f.astype(np.int64)\n",
    "print(f1.itemsize)\n",
    "print(f1.dtype)"
   ],
   "id": "41bc1fb4f05d7744",
   "outputs": [
    {
     "name": "stdout",
     "output_type": "stream",
     "text": [
      "8\n",
      "int64\n"
     ]
    }
   ],
   "execution_count": 56
  },
  {
   "metadata": {},
   "cell_type": "markdown",
   "source": "# 数组的运算",
   "id": "9dabc92f64ebf4f6"
  },
  {
   "metadata": {
    "ExecuteTime": {
     "end_time": "2025-02-21T11:51:04.472177Z",
     "start_time": "2025-02-21T11:51:04.467635Z"
    }
   },
   "cell_type": "code",
   "source": [
    "a = np.arange(24).reshape(6, 4)\n",
    "b = np.arange(100, 124).reshape(6, 4)\n",
    "print(a)\n",
    "print(b)\n",
    "print('-' * 50)\n",
    "print(a + b)\n",
    "print('-' * 50)\n",
    "print(a * b)  #对应位置相乘，不是矩阵乘法"
   ],
   "id": "502723f234c140a8",
   "outputs": [
    {
     "name": "stdout",
     "output_type": "stream",
     "text": [
      "[[ 0  1  2  3]\n",
      " [ 4  5  6  7]\n",
      " [ 8  9 10 11]\n",
      " [12 13 14 15]\n",
      " [16 17 18 19]\n",
      " [20 21 22 23]]\n",
      "[[100 101 102 103]\n",
      " [104 105 106 107]\n",
      " [108 109 110 111]\n",
      " [112 113 114 115]\n",
      " [116 117 118 119]\n",
      " [120 121 122 123]]\n",
      "--------------------------------------------------\n",
      "[[100 102 104 106]\n",
      " [108 110 112 114]\n",
      " [116 118 120 122]\n",
      " [124 126 128 130]\n",
      " [132 134 136 138]\n",
      " [140 142 144 146]]\n",
      "--------------------------------------------------\n",
      "[[   0  101  204  309]\n",
      " [ 416  525  636  749]\n",
      " [ 864  981 1100 1221]\n",
      " [1344 1469 1596 1725]\n",
      " [1856 1989 2124 2261]\n",
      " [2400 2541 2684 2829]]\n"
     ]
    }
   ],
   "execution_count": 57
  },
  {
   "metadata": {
    "ExecuteTime": {
     "end_time": "2025-02-21T11:51:04.479621Z",
     "start_time": "2025-02-21T11:51:04.475178Z"
    }
   },
   "cell_type": "code",
   "source": [
    "#一维数组和二维数组的运算\n",
    "t1 = np.arange(24).reshape(4, 6)\n",
    "t2 = np.arange(6).reshape(1, 6)\n",
    "print(t1)\n",
    "print(t2)\n",
    "print('-' * 50)\n",
    "print(t1 + t2)"
   ],
   "id": "c1375c4159d79a9c",
   "outputs": [
    {
     "name": "stdout",
     "output_type": "stream",
     "text": [
      "[[ 0  1  2  3  4  5]\n",
      " [ 6  7  8  9 10 11]\n",
      " [12 13 14 15 16 17]\n",
      " [18 19 20 21 22 23]]\n",
      "[[0 1 2 3 4 5]]\n",
      "--------------------------------------------------\n",
      "[[ 0  2  4  6  8 10]\n",
      " [ 6  8 10 12 14 16]\n",
      " [12 14 16 18 20 22]\n",
      " [18 20 22 24 26 28]]\n"
     ]
    }
   ],
   "execution_count": 58
  },
  {
   "metadata": {},
   "cell_type": "markdown",
   "source": "# 练习轴",
   "id": "ede030dbf491f605"
  },
  {
   "metadata": {
    "ExecuteTime": {
     "end_time": "2025-02-21T11:51:04.485347Z",
     "start_time": "2025-02-21T11:51:04.481625Z"
    }
   },
   "cell_type": "code",
   "source": [
    "a = np.array([[1, 2, 3], [4, 5, 6], [7, 8, 9]])\n",
    "print(a)\n",
    "print(a.sum(axis=0))  #按列求和\n",
    "print(a.sum(axis=1))  #按行求和"
   ],
   "id": "c0d9f3b6e57bfb3e",
   "outputs": [
    {
     "name": "stdout",
     "output_type": "stream",
     "text": [
      "[[1 2 3]\n",
      " [4 5 6]\n",
      " [7 8 9]]\n",
      "[12 15 18]\n",
      "[ 6 15 24]\n"
     ]
    }
   ],
   "execution_count": 59
  },
  {
   "metadata": {},
   "cell_type": "markdown",
   "source": "# 索引和切片",
   "id": "bcb0c5e7e65b62bb"
  },
  {
   "metadata": {
    "ExecuteTime": {
     "end_time": "2025-02-21T11:51:04.492707Z",
     "start_time": "2025-02-21T11:51:04.487354Z"
    }
   },
   "cell_type": "code",
   "source": [
    "a = np.arange(10)\n",
    "print(a[0], a)\n",
    "print(a[2:])\n",
    "print(a[2:8:2])\n",
    "b = a.reshape(2, 5)\n",
    "print('-' * 50)\n",
    "print(b)\n",
    "print('-' * 50)\n",
    "print(b[0, 2])\n",
    "print('-' * 50)\n",
    "print(b[[0, 1], [0, 2]])  #取出第0行和第1行的第0列和第2列的值\n",
    "b[:, 1]"
   ],
   "id": "ec825b4287679624",
   "outputs": [
    {
     "name": "stdout",
     "output_type": "stream",
     "text": [
      "0 [0 1 2 3 4 5 6 7 8 9]\n",
      "[2 3 4 5 6 7 8 9]\n",
      "[2 4 6]\n",
      "--------------------------------------------------\n",
      "[[0 1 2 3 4]\n",
      " [5 6 7 8 9]]\n",
      "--------------------------------------------------\n",
      "2\n",
      "--------------------------------------------------\n",
      "[0 7]\n"
     ]
    },
    {
     "data": {
      "text/plain": [
       "array([1, 6])"
      ]
     },
     "execution_count": 60,
     "metadata": {},
     "output_type": "execute_result"
    }
   ],
   "execution_count": 60
  },
  {
   "metadata": {
    "ExecuteTime": {
     "end_time": "2025-02-21T11:51:04.516036Z",
     "start_time": "2025-02-21T11:51:04.513759Z"
    }
   },
   "cell_type": "code",
   "source": "",
   "id": "dfa99d951f7badbf",
   "outputs": [],
   "execution_count": 60
  },
  {
   "metadata": {
    "ExecuteTime": {
     "end_time": "2025-02-21T11:51:04.525576Z",
     "start_time": "2025-02-21T11:51:04.521041Z"
    }
   },
   "cell_type": "code",
   "source": [
    "t = np.arange(24).reshape(4, 6)\n",
    "print(t)\n",
    "print('-' * 50)\n",
    "# t[(t>2)&(t<6)]=0\n",
    "# t[(t<2)|(t>6)]=0\n",
    "# t[~(t>6)]=0\n",
    "t = t.clip(10, 18)  #把小于10的替换成10，大于18的替换成18\n",
    "print(t)"
   ],
   "id": "cf278fd7e41eda60",
   "outputs": [
    {
     "name": "stdout",
     "output_type": "stream",
     "text": [
      "[[ 0  1  2  3  4  5]\n",
      " [ 6  7  8  9 10 11]\n",
      " [12 13 14 15 16 17]\n",
      " [18 19 20 21 22 23]]\n",
      "--------------------------------------------------\n",
      "[[10 10 10 10 10 10]\n",
      " [10 10 10 10 10 11]\n",
      " [12 13 14 15 16 17]\n",
      " [18 18 18 18 18 18]]\n"
     ]
    }
   ],
   "execution_count": 61
  },
  {
   "metadata": {},
   "cell_type": "markdown",
   "source": "# 转置和轴滚动",
   "id": "7db1cd0a86b22c40"
  },
  {
   "metadata": {
    "ExecuteTime": {
     "end_time": "2025-02-21T11:51:04.530518Z",
     "start_time": "2025-02-21T11:51:04.526579Z"
    }
   },
   "cell_type": "code",
   "source": [
    "# a = np.arange(12).reshape(3, 4)\n",
    "# print(f'原数组：\\n{a}')\n",
    "# print(f'转置数组：\\n{a.T}')\n",
    "# print(f'二维轴交换数组：\\n{a.swapaxes(0, 1)}')\n",
    "# print('-'*50)\n",
    "b = np.arange(24).reshape(2,3,4)\n",
    "print(f'原数组：\\n{b.shape}\\n{b}')\n",
    "b1=np.swapaxes(b,0,1) \n",
    "print(f'三维轴交换数组：\\n{b1.shape}\\n{b1}')  #轴0和轴1交换"
   ],
   "id": "379645d610e2b8ae",
   "outputs": [
    {
     "name": "stdout",
     "output_type": "stream",
     "text": [
      "原数组：\n",
      "(2, 3, 4)\n",
      "[[[ 0  1  2  3]\n",
      "  [ 4  5  6  7]\n",
      "  [ 8  9 10 11]]\n",
      "\n",
      " [[12 13 14 15]\n",
      "  [16 17 18 19]\n",
      "  [20 21 22 23]]]\n",
      "三维轴交换数组：\n",
      "(3, 2, 4)\n",
      "[[[ 0  1  2  3]\n",
      "  [12 13 14 15]]\n",
      "\n",
      " [[ 4  5  6  7]\n",
      "  [16 17 18 19]]\n",
      "\n",
      " [[ 8  9 10 11]\n",
      "  [20 21 22 23]]]\n"
     ]
    }
   ],
   "execution_count": 62
  },
  {
   "metadata": {
    "ExecuteTime": {
     "end_time": "2025-02-21T11:51:04.536072Z",
     "start_time": "2025-02-21T11:51:04.531520Z"
    }
   },
   "cell_type": "code",
   "source": [
    "a=np.ones((3,4,5,6))\n",
    "b=np.rollaxis(a,3,1) \n",
    "b.shape"
   ],
   "id": "6a269d7d6b6f4fbf",
   "outputs": [
    {
     "data": {
      "text/plain": [
       "(3, 6, 4, 5)"
      ]
     },
     "execution_count": 63,
     "metadata": {},
     "output_type": "execute_result"
    }
   ],
   "execution_count": 63
  },
  {
   "metadata": {
    "ExecuteTime": {
     "end_time": "2025-02-21T11:51:28.502172Z",
     "start_time": "2025-02-21T11:51:28.497293Z"
    }
   },
   "cell_type": "code",
   "source": "np.rollaxis(b,1,4).shape#轴滚动到4位置之前，即轴3和轴1交换",
   "id": "3110b4bcc8f2d1f7",
   "outputs": [
    {
     "data": {
      "text/plain": [
       "(3, 4, 5, 6)"
      ]
     },
     "execution_count": 65,
     "metadata": {},
     "output_type": "execute_result"
    }
   ],
   "execution_count": 65
  }
 ],
 "metadata": {
  "kernelspec": {
   "display_name": "Python 3",
   "language": "python",
   "name": "python3"
  },
  "language_info": {
   "codemirror_mode": {
    "name": "ipython",
    "version": 2
   },
   "file_extension": ".py",
   "mimetype": "text/x-python",
   "name": "python",
   "nbconvert_exporter": "python",
   "pygments_lexer": "ipython2",
   "version": "2.7.6"
  }
 },
 "nbformat": 4,
 "nbformat_minor": 5
}
